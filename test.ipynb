import webbrowser

# YouTubeのURL
url = "https://www.youtube.com"

# デフォルトのWebブラウザーでURLを開く
webbrowser.open(url)